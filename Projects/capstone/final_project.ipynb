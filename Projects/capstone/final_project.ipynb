{
 "cells": [
  {
   "cell_type": "code",
   "execution_count": 11,
   "metadata": {},
   "outputs": [
    {
     "name": "stdout",
     "output_type": "stream",
     "text": [
      "[17.869  17.91   17.9    17.9    17.9    17.83   17.8255 17.9    17.87\n",
      " 17.88   17.875  17.875  17.8835 17.88   17.88   17.87   17.87   17.8622\n",
      " 17.888  17.915  17.895  17.895  17.9    17.9    17.8965 17.9163 17.87\n",
      " 17.87   17.87   17.87   17.8295 17.9    17.89   17.89   17.83   17.83\n",
      " 17.8315 17.945  17.91   17.91   17.89   17.89   17.8775 17.84   17.84\n",
      " 17.91   17.925  17.91   17.9145 17.92   17.91   17.9    17.91   17.915\n",
      " 17.9165 17.915  17.915  17.91   17.91   17.84   17.8375 17.91   17.91\n",
      " 17.91   17.89   17.89   17.8875 17.91   17.91   17.91   17.91   17.93\n",
      " 17.9425 17.92   17.91   17.91   17.915  17.915  17.9245 17.91   17.915\n",
      " 17.91   17.91   17.91   17.9155 17.92   17.91   17.91   17.91   17.91\n",
      " 17.894  17.91   17.93   17.91   17.91   17.84   17.858  17.91   17.91\n",
      " 17.91   17.91   17.91   17.7805 17.91   17.91   17.9575 17.89   17.89\n",
      " 17.9    17.955  17.915  17.91   17.91   17.91   17.874  17.91   17.91\n",
      " 17.935  17.91   17.91   17.8855 17.91   17.91   17.91   17.92   17.955\n",
      " 17.9645 17.915  17.91   17.91   17.91   17.91   17.91   17.9599 17.91\n",
      " 17.91   17.91   17.89   17.89   17.89   17.9587 17.91   17.91   17.92\n",
      " 17.91   17.91   17.91   17.9175 17.9175 17.925  17.91   17.925  17.925\n",
      " 17.925  17.91   17.91   17.91   17.925  17.89   17.89   17.89   17.9175\n",
      " 17.925  17.91   17.89   17.89   17.89   17.89   17.69   17.66   17.6363\n",
      " 17.67   17.68   17.65   17.65   17.67   17.68   17.6    17.6    17.6\n",
      " 17.6    17.6    17.6375 17.6    17.6    17.585  17.54   17.54   17.54\n",
      " 17.56   17.54   17.54   17.56   17.54   17.54   17.54   17.5125 17.545\n",
      " 17.51   17.53   17.51   17.51   17.53   17.5325 17.52   17.46   17.47\n",
      " 17.42   17.42   17.42   17.44   17.43   17.405  17.42   17.4    17.4\n",
      " 17.4    17.3513 17.31   17.29   17.275  17.255  17.255  17.255  17.3\n",
      " 17.3    17.305  17.32   17.33   17.33   17.33   17.33   17.335  17.32\n",
      " 17.3325 17.31   17.31   17.31   17.3325 17.32   17.33   17.32   17.31\n",
      " 17.31   17.31   17.2937 17.345  17.31   17.255  17.2025 17.2   ]\n",
      "Test MSE: 0.001\n"
     ]
    },
    {
     "name": "stderr",
     "output_type": "stream",
     "text": [
      "C:\\Users\\Ghandour\\Anaconda3\\envs\\Capstone enviroment\\lib\\site-packages\\ipykernel_launcher.py:22: DeprecationWarning: \n",
      ".ix is deprecated. Please use\n",
      ".loc for label based indexing or\n",
      ".iloc for positional indexing\n",
      "\n",
      "See the documentation here:\n",
      "http://pandas.pydata.org/pandas-docs/stable/indexing.html#ix-indexer-is-deprecated\n"
     ]
    },
    {
     "data": {
      "image/png": "[encoded data removed]",
      "text/plain": [
       "<Figure size 432x288 with 1 Axes>"
      ]
     },
     "metadata": {
      "needs_background": "light"
     },
     "output_type": "display_data"
    }
   ],
   "source": [
    "from sklearn.metrics import mean_squared_error\n",
    "import pandas\n",
    "import tensorflow\n",
    "from pandas import read_csv\n",
    "from pandas import datetime\n",
    "from matplotlib import pyplot\n",
    "import matplotlib.pyplot as plt\n",
    "import numpy as np\n",
    "import pandas as pd\n",
    "import math\n",
    "from keras.wrappers.scikit_learn import KerasClassifier\n",
    "from sklearn.model_selection import GridSearchCV\n",
    "from keras.models import Sequential\n",
    "from keras.layers import Dense\n",
    "from keras.layers import LSTM\n",
    "from sklearn.preprocessing import MinMaxScaler\n",
    "\n",
    "data = pd.read_csv('USD_EGP Historical Data.csv')\n",
    "data=data.drop('Change %',axis=1)\n",
    "data=data.drop('Date',axis=1)\n",
    "data=data[5686:] #choosing the data after floating the egyptian pound only\n",
    "working_data=data.ix[:,1]#choosing the price coloumn only\n",
    "#print(working_data)\n",
    "#print(data)\n",
    "#plt.plot(data)\n",
    "\n",
    "\n",
    "dataframe = pandas.concat([working_data.shift(1), working_data], axis=1)\n",
    "dataframe.columns = ['t', 't+1']\n",
    "#print(dataframe.head(5))\n",
    "\n",
    "\n",
    "X=dataframe.values\n",
    "train_size = int(len(X) * 0.67)\n",
    "train, test = X[1:train_size], X[train_size:]\n",
    "train_X, train_y = train[:,0], train[:,1]\n",
    "test_X, test_y = test[:,0], test[:,1]\n",
    "#print(train_size)\n",
    "print(test_X)\n",
    "\n",
    "\n",
    "\n",
    "test_score = mean_squared_error(test_y, test_X)\n",
    "print('Test MSE: %.3f' % test_score)\n",
    "\n",
    "\n",
    "pyplot.plot(train_y)\n",
    "pyplot.plot([None for i in train_y] + [x for x in test_y])\n",
    "pyplot.plot([None for i in train_y] + [x for x in test_X])\n",
    "pyplot.show()"
   ]
  },
  {
   "cell_type": "code",
   "execution_count": 2,
   "metadata": {},
   "outputs": [],
   "source": [
    "scaler = MinMaxScaler(feature_range=(0, 1))\n",
    "dataset = scaler.fit_transform(working_data.values.reshape(-1, 1))\n",
    "#print(dataset)\n",
    "\n",
    "train_size = int(len(dataset) * 0.67)\n",
    "test_size = len(dataset) - train_size\n",
    "train, test = dataset[0:train_size,:], dataset[train_size:len(dataset),:]\n",
    "#print(len(train), len(test))\n",
    "\n",
    "\n",
    "def create_dataset(dataset, look_back=1):\n",
    "    dataX, dataY = [], []\n",
    "    for i in range(len(dataset)-look_back-1):\n",
    "        a = dataset[i:(i+look_back), 0]\n",
    "        dataX.append(a)\n",
    "        dataY.append(dataset[i + look_back, 0])\n",
    "    return np.array(dataX), np.array(dataY)\n",
    "\n",
    "look_back = 1\n",
    "trainX, trainY = create_dataset(train, look_back)\n",
    "testX, testY = create_dataset(test, look_back)\n",
    "\n",
    "trainX = np.reshape(trainX, (trainX.shape[0], 1, trainX.shape[1]))\n",
    "testX = np.reshape(testX, (testX.shape[0], 1, testX.shape[1]))\n",
    "\n",
    "\n",
    "def create_model():\n",
    "    model = Sequential()\n",
    "    model.add(LSTM(1, input_shape=(1, look_back)))\n",
    "    model.add(Dense(1))\n",
    "    model.compile(loss='mean_squared_error', optimizer='adam', metrics=[\"accuracy\"])\n",
    "#model.fit(trainX, trainY, epochs=10, batch_size=5, verbose=2)\n",
    "    return model\n",
    "model = KerasClassifier(build_fn=create_model, verbose=0)\n",
    "# define the grid search parameters\n",
    "batch_size = [1,10, 20, 40, 60, 80, 100]\n",
    "epochs = [100, 500, 250]\n",
    "param_grid = dict(batch_size=batch_size, epochs=epochs)\n",
    "#grid = GridSearchCV(estimator=model, param_grid=param_grid, n_jobs=-1)\n",
    "#grid_result = grid.fit(trainX, trainY)\n",
    "# summarize results\n",
    "#print(\"Best: %f using %s\" % (grid_result.best_score_, grid_result.best_params_))\n",
    "#model = Sequential()\n",
    "#model.add(LSTM(1, input_shape=(1, look_back)))\n",
    "#model.add(Dense(1))\n",
    "#model.compile(loss='mean_squared_error', optimizer='adam')\n",
    "#model.fit(trainX, trainY, epochs=10, batch_size=5, verbose=2)\n",
    "\n"
   ]
  },
  {
   "cell_type": "code",
   "execution_count": 3,
   "metadata": {},
   "outputs": [
    {
     "name": "stdout",
     "output_type": "stream",
     "text": [
      "WARNING:tensorflow:From C:\\Users\\Ghandour\\Anaconda3\\envs\\Capstone enviroment\\lib\\site-packages\\keras\\backend\\tensorflow_backend.py:1247: calling reduce_sum (from tensorflow.python.ops.math_ops) with keep_dims is deprecated and will be removed in a future version.\n",
      "Instructions for updating:\n",
      "keep_dims is deprecated, use keepdims instead\n",
      "WARNING:tensorflow:From C:\\Users\\Ghandour\\Anaconda3\\envs\\Capstone enviroment\\lib\\site-packages\\keras\\backend\\tensorflow_backend.py:1349: calling reduce_mean (from tensorflow.python.ops.math_ops) with keep_dims is deprecated and will be removed in a future version.\n",
      "Instructions for updating:\n",
      "keep_dims is deprecated, use keepdims instead\n",
      "Epoch 1/10\n",
      " - 2s - loss: 0.1684 - acc: 0.0000e+00\n",
      "Epoch 2/10\n",
      " - 1s - loss: 0.0117 - acc: 0.0020\n",
      "Epoch 3/10\n",
      " - 1s - loss: 0.0101 - acc: 0.0020\n",
      "Epoch 4/10\n",
      " - 1s - loss: 0.0093 - acc: 0.0020\n",
      "Epoch 5/10\n",
      " - 1s - loss: 0.0085 - acc: 0.0020\n",
      "Epoch 6/10\n",
      " - 1s - loss: 0.0075 - acc: 0.0020\n",
      "Epoch 7/10\n",
      " - 1s - loss: 0.0065 - acc: 0.0020\n",
      "Epoch 8/10\n",
      " - 1s - loss: 0.0056 - acc: 0.0020\n",
      "Epoch 9/10\n",
      " - 1s - loss: 0.0046 - acc: 0.0020\n",
      "Epoch 10/10\n",
      " - 1s - loss: 0.0037 - acc: 0.0020\n"
     ]
    },
    {
     "data": {
      "text/plain": [
       "<keras.callbacks.History at 0x2df25776748>"
      ]
     },
     "execution_count": 3,
     "metadata": {},
     "output_type": "execute_result"
    }
   ],
   "source": [
    "model = Sequential()\n",
    "model.add(LSTM(1, input_shape=(1, look_back)))\n",
    "model.add(Dense(1))\n",
    "model.compile(loss='mean_squared_error', optimizer='adam', metrics=[\"accuracy\"])\n",
    "model.fit(trainX, trainY, epochs=10, batch_size=1, verbose=2)"
   ]
  },
  {
   "cell_type": "code",
   "execution_count": 4,
   "metadata": {},
   "outputs": [
    {
     "name": "stdout",
     "output_type": "stream",
     "text": [
      "Train Score: 0.26 ModelMSE\n",
      "Test Score: 0.10 ModelMSE\n"
     ]
    }
   ],
   "source": [
    "trainPredict = model.predict(trainX)\n",
    "testPredict = model.predict(testX)\n",
    "# invert predictions\n",
    "trainPredict = scaler.inverse_transform(trainPredict)\n",
    "trainY = scaler.inverse_transform([trainY])\n",
    "testPredict = scaler.inverse_transform(testPredict)\n",
    "testY = scaler.inverse_transform([testY])\n",
    "# calculate root mean squared error\n",
    "trainScore = math.sqrt(mean_squared_error(trainY[0], trainPredict[:,0]))\n",
    "print('Train Score: %.2f ModelMSE' % (trainScore))\n",
    "testScore = math.sqrt(mean_squared_error(testY[0], testPredict[:,0]))\n",
    "print('Test Score: %.2f ModelMSE' % (testScore))\n"
   ]
  },
  {
   "cell_type": "code",
   "execution_count": 5,
   "metadata": {},
   "outputs": [
    {
     "data": {
      "image/png": "[encoded data removed]",
      "text/plain": [
       "<Figure size 432x288 with 1 Axes>"
      ]
     },
     "metadata": {
      "needs_background": "light"
     },
     "output_type": "display_data"
    }
   ],
   "source": [
    "trainPredictPlot = np.empty_like(dataset)\n",
    "trainPredictPlot[:, :] = np.nan\n",
    "trainPredictPlot[look_back:len(trainPredict)+look_back, :] = trainPredict\n",
    "# shift test predictions for plotting\n",
    "testPredictPlot = np.empty_like(dataset)\n",
    "testPredictPlot[:, :] = np.nan\n",
    "testPredictPlot[len(trainPredict)+(look_back*2)+1:len(dataset)-1, :] = testPredict\n",
    "# plot baseline and predictions\n",
    "plt.plot(scaler.inverse_transform(dataset))\n",
    "plt.plot(trainPredictPlot)\n",
    "plt.plot(testPredictPlot)\n",
    "plt.show()"
   ]
  },
  {
   "cell_type": "code",
   "execution_count": null,
   "metadata": {},
   "outputs": [],
   "source": []
  }
 ],
 "metadata": {
  "kernelspec": {
   "display_name": "Python 3",
   "language": "python",
   "name": "python3"
  },
  "language_info": {
   "codemirror_mode": {
    "name": "ipython",
    "version": 3
   },
   "file_extension": ".py",
   "mimetype": "text/x-python",
   "name": "python",
   "nbconvert_exporter": "python",
   "pygments_lexer": "ipython3",
   "version": "3.6.8"
  }
 },
 "nbformat": 4,
 "nbformat_minor": 2
}
