{
 "cells": [
  {
   "cell_type": "code",
   "execution_count": 5,
   "metadata": {},
   "outputs": [
    {
     "name": "stdout",
     "output_type": "stream",
     "text": [
      "           Date   Price    Open    High     Low\n",
      "5686  04-Nov-16  15.500  15.000  15.760  14.895\n",
      "5687  05-Nov-16  15.550  15.500  15.850  15.200\n",
      "5688  07-Nov-16  16.800  16.300  17.700  16.100\n",
      "5689  08-Nov-16  18.000  17.450  18.100  16.250\n",
      "5690  09-Nov-16  17.025  17.725  18.025  16.775\n",
      "17.781465303430082\n",
      "0.46929823320073366\n",
      "Test MSE: 0.001\n"
     ]
    },
    {
     "name": "stderr",
     "output_type": "stream",
     "text": [
      "C:\\Users\\Ghandour\\Anaconda3\\envs\\Capstone enviroment\\lib\\site-packages\\ipykernel_launcher.py:23: DeprecationWarning: \n",
      ".ix is deprecated. Please use\n",
      ".loc for label based indexing or\n",
      ".iloc for positional indexing\n",
      "\n",
      "See the documentation here:\n",
      "http://pandas.pydata.org/pandas-docs/stable/indexing.html#ix-indexer-is-deprecated\n"
     ]
    },
    {
     "data": {
      "image/png": "[encoded data removed]",
      "text/plain": [
       "<Figure size 432x288 with 1 Axes>"
      ]
     },
     "metadata": {
      "needs_background": "light"
     },
     "output_type": "display_data"
    }
   ],
   "source": [
    "from sklearn.metrics import mean_squared_error\n",
    "import pandas\n",
    "import tensorflow\n",
    "from pandas import read_csv\n",
    "from pandas import datetime\n",
    "from matplotlib import pyplot\n",
    "import matplotlib.pyplot as plt\n",
    "import numpy as np\n",
    "import pandas as pd\n",
    "import math\n",
    "from keras.wrappers.scikit_learn import KerasClassifier\n",
    "from sklearn.model_selection import GridSearchCV\n",
    "from keras.models import Sequential\n",
    "from keras.layers import Dense\n",
    "from keras.layers import LSTM\n",
    "from sklearn.preprocessing import MinMaxScaler\n",
    "from sklearn.preprocessing import StandardScaler\n",
    "\n",
    "data = pd.read_csv('USD_EGP Historical Data.csv')\n",
    "data=data.drop('Change %',axis=1)\n",
    "#data=data.drop('Date',axis=1)\n",
    "data=data[5686:] #choosing the data after floating the egyptian pound only\n",
    "working_data=data.ix[:,1]#choosing the price coloumn only\n",
    "#print(working_data)\n",
    "#print(data)\n",
    "plt.plot(working_data)\n",
    "pyplot.xlabel(\"Time\")\n",
    "pyplot.ylabel(\"USD price\")\n",
    "print(data.head(5))\n",
    "print(np.mean(working_data))\n",
    "print(np.std(working_data))\n",
    "\n",
    "dataframe = pandas.concat([working_data.shift(1), working_data], axis=1)\n",
    "dataframe.columns = ['t', 't+1']\n",
    "#print(dataframe.head(5))\n",
    "\n",
    "\n",
    "X=dataframe.values\n",
    "train_size = int(len(X) * 0.67)\n",
    "train, test = X[1:train_size], X[train_size:]\n",
    "train_X, train_y = train[:,0], train[:,1]\n",
    "test_X, test_y = test[:,0], test[:,1]\n",
    "#print(train_size)\n",
    "#print(test_X)\n",
    "\n",
    "\n",
    "\n",
    "test_score = mean_squared_error(test_y, test_X)\n",
    "print('Test MSE: %.3f' % test_score)\n",
    "\n",
    "\n",
    "#pyplot.plot(train_y)\n",
    "#pyplot.plot([None for i in train_y] + [x for x in test_y])\n",
    "#pyplot.plot([None for i in train_y] + [x for x in test_X])\n",
    "#pyplot.show()"
   ]
  },
  {
   "cell_type": "code",
   "execution_count": 74,
   "metadata": {},
   "outputs": [],
   "source": [
    "scaler = MinMaxScaler(feature_range=(0, 1))\n",
    "dataset = scaler.fit_transform(working_data.values.reshape(-1, 1))\n",
    "#print(dataset)\n",
    "\n",
    "train_size = int(len(dataset) * 0.67)\n",
    "test_size = len(dataset) - train_size\n",
    "train, test = dataset[0:train_size,:], dataset[train_size:len(dataset),:]\n",
    "#print(len(train), len(test))\n",
    "\n",
    "\n",
    "def create_dataset(dataset, look_back=1):\n",
    "    dataX, dataY = [], []\n",
    "    for i in range(len(dataset)-look_back-1):\n",
    "        a = dataset[i:(i+look_back), 0]\n",
    "        dataX.append(a)\n",
    "        dataY.append(dataset[i + look_back, 0])\n",
    "    return np.array(dataX), np.array(dataY)\n",
    "\n",
    "look_back = 1\n",
    "trainX, trainY = create_dataset(train, look_back)\n",
    "testX, testY = create_dataset(test, look_back)\n",
    "\n",
    "trainX = np.reshape(trainX, (trainX.shape[0], 1, trainX.shape[1]))\n",
    "testX = np.reshape(testX, (testX.shape[0], 1, testX.shape[1]))\n",
    "\n",
    "\n",
    "def create_model():\n",
    "    model = Sequential()\n",
    "    model.add(LSTM(1, input_shape=(1, look_back)))\n",
    "    model.add(Dense(1))\n",
    "    model.compile(loss='mean_squared_error', optimizer='adam', metrics=[\"accuracy\"])\n",
    "#model.fit(trainX, trainY, epochs=10, batch_size=5, verbose=2)\n",
    "    return model\n",
    "model = KerasClassifier(build_fn=create_model, verbose=0)\n",
    "# define the grid search parameters\n",
    "batch_size = [1,10, 20, 40, 60, 80, 100]\n",
    "epochs = [25,50,100, 500, 250]\n",
    "param_grid = dict(batch_size=batch_size, epochs=epochs)\n",
    "#grid = GridSearchCV(estimator=model, param_grid=param_grid, n_jobs=-1)\n",
    "#grid_result = grid.fit(trainX, trainY)\n",
    "# summarize results\n",
    "#print(\"Best: %f using %s\" % (grid_result.best_score_, grid_result.best_params_))\n",
    "#model = Sequential()\n",
    "#model.add(LSTM(1, input_shape=(1, look_back)))\n",
    "#model.add(Dense(1))\n",
    "#model.compile(loss='mean_squared_error', optimizer='adam')\n",
    "#model.fit(trainX, trainY, epochs=10, batch_size=5, verbose=2)\n",
    "\n"
   ]
  },
  {
   "cell_type": "code",
   "execution_count": 75,
   "metadata": {
    "scrolled": true
   },
   "outputs": [
    {
     "name": "stdout",
     "output_type": "stream",
     "text": [
      "Epoch 1/25\n",
      " - 4s - loss: 0.0516 - acc: 0.0040\n",
      "Epoch 2/25\n",
      " - 1s - loss: 0.0059 - acc: 0.0040\n",
      "Epoch 3/25\n",
      " - 1s - loss: 0.0052 - acc: 0.0040\n",
      "Epoch 4/25\n",
      " - 1s - loss: 0.0042 - acc: 0.0040\n",
      "Epoch 5/25\n",
      " - 1s - loss: 0.0033 - acc: 0.0040\n",
      "Epoch 6/25\n",
      " - 1s - loss: 0.0026 - acc: 0.0040\n",
      "Epoch 7/25\n",
      " - 1s - loss: 0.0020 - acc: 0.0040\n",
      "Epoch 8/25\n",
      " - 1s - loss: 0.0017 - acc: 0.0040\n",
      "Epoch 9/25\n",
      " - 1s - loss: 0.0016 - acc: 0.0040\n",
      "Epoch 10/25\n",
      " - 1s - loss: 0.0015 - acc: 0.0040\n",
      "Epoch 11/25\n",
      " - 1s - loss: 0.0015 - acc: 0.0040\n",
      "Epoch 12/25\n",
      " - 1s - loss: 0.0015 - acc: 0.0040\n",
      "Epoch 13/25\n",
      " - 1s - loss: 0.0015 - acc: 0.0040\n",
      "Epoch 14/25\n",
      " - 1s - loss: 0.0015 - acc: 0.0040\n",
      "Epoch 15/25\n",
      " - 1s - loss: 0.0015 - acc: 0.0040\n",
      "Epoch 16/25\n",
      " - 1s - loss: 0.0015 - acc: 0.0040\n",
      "Epoch 17/25\n",
      " - 1s - loss: 0.0015 - acc: 0.0040\n",
      "Epoch 18/25\n",
      " - 1s - loss: 0.0015 - acc: 0.0040\n",
      "Epoch 19/25\n",
      " - 1s - loss: 0.0015 - acc: 0.0040\n",
      "Epoch 20/25\n",
      " - 1s - loss: 0.0015 - acc: 0.0040\n",
      "Epoch 21/25\n",
      " - 1s - loss: 0.0015 - acc: 0.0040\n",
      "Epoch 22/25\n",
      " - 1s - loss: 0.0015 - acc: 0.0040\n",
      "Epoch 23/25\n",
      " - 1s - loss: 0.0015 - acc: 0.0040\n",
      "Epoch 24/25\n",
      " - 1s - loss: 0.0015 - acc: 0.0040\n",
      "Epoch 25/25\n",
      " - 1s - loss: 0.0015 - acc: 0.0040\n"
     ]
    },
    {
     "data": {
      "text/plain": [
       "<keras.callbacks.History at 0x1ce9deaf0f0>"
      ]
     },
     "execution_count": 75,
     "metadata": {},
     "output_type": "execute_result"
    }
   ],
   "source": [
    "model = Sequential()\n",
    "model.add(LSTM(1, input_shape=(1, look_back)))\n",
    "model.add(Dense(1))\n",
    "model.compile(loss='mean_squared_error', optimizer='adam', metrics=[\"accuracy\"])\n",
    "model.fit(trainX, trainY, epochs=25, batch_size=1, verbose=2)\n"
   ]
  },
  {
   "cell_type": "code",
   "execution_count": 42,
   "metadata": {},
   "outputs": [],
   "source": []
  },
  {
   "cell_type": "code",
   "execution_count": 76,
   "metadata": {},
   "outputs": [
    {
     "name": "stdout",
     "output_type": "stream",
     "text": [
      "[17.9    17.9    17.9    17.83   17.8255 17.9    17.87   17.88   17.875\n",
      " 17.875 ]\n",
      "[[17.91  ]\n",
      " [17.9   ]\n",
      " [17.9   ]\n",
      " [17.9   ]\n",
      " [17.83  ]\n",
      " [17.8255]\n",
      " [17.9   ]\n",
      " [17.87  ]\n",
      " [17.88  ]\n",
      " [17.875 ]]\n",
      "Train Score: 0.16 ModelMSE\n",
      "Test Score: 0.04 ModelMSE\n"
     ]
    }
   ],
   "source": [
    "trainPredict = model.predict(trainX)\n",
    "testPredict = model.predict(testX)\n",
    "#print(train_X)\n",
    "# invert predictions\n",
    "trainPredict = scaler.inverse_transform(trainPredict)\n",
    "trainY = scaler.inverse_transform([trainY])\n",
    "testPredict = scaler.inverse_transform(testPredict)\n",
    "testY = scaler.inverse_transform([testY])\n",
    "print(testY[0,0:10])\n",
    "print(scaler.inverse_transform(test[0:10]))\n",
    "# calculate root mean squared error\n",
    "trainScore = math.sqrt(mean_squared_error(trainY[0], trainPredict[:,0]))\n",
    "print('Train Score: %.2f ModelMSE' % (trainScore))\n",
    "testScore = math.sqrt(mean_squared_error(testY[0], testPredict[:,0]))\n",
    "print('Test Score: %.2f ModelMSE' % (testScore))"
   ]
  },
  {
   "cell_type": "code",
   "execution_count": 52,
   "metadata": {},
   "outputs": [
    {
     "data": {
      "image/png": "[encoded data removed]",
      "text/plain": [
       "<Figure size 432x288 with 1 Axes>"
      ]
     },
     "metadata": {
      "needs_background": "light"
     },
     "output_type": "display_data"
    }
   ],
   "source": [
    "trainPredictPlot = np.empty_like(dataset)\n",
    "trainPredictPlot[:, :] = np.nan\n",
    "trainPredictPlot[look_back:len(trainPredict)+look_back, :] = trainPredict\n",
    "# shift test predictions for plotting\n",
    "testPredictPlot = np.empty_like(dataset)\n",
    "testPredictPlot[:, :] = np.nan\n",
    "testPredictPlot[len(trainPredict)+(look_back*2)+1:len(dataset)-1, :] = testPredict\n",
    "# plot baseline and predictions\n",
    "plt.plot(scaler.inverse_transform(dataset))\n",
    "plt.plot(trainPredictPlot)\n",
    "plt.plot(testPredictPlot)\n",
    "pyplot.xlabel(\"Time(in days)\")\n",
    "pyplot.ylabel(\"USD price\")\n",
    "plt.show()"
   ]
  },
  {
   "cell_type": "code",
   "execution_count": null,
   "metadata": {},
   "outputs": [],
   "source": []
  }
 ],
 "metadata": {
  "kernelspec": {
   "display_name": "Python 3",
   "language": "python",
   "name": "python3"
  },
  "language_info": {
   "codemirror_mode": {
    "name": "ipython",
    "version": 3
   },
   "file_extension": ".py",
   "mimetype": "text/x-python",
   "name": "python",
   "nbconvert_exporter": "python",
   "pygments_lexer": "ipython3",
   "version": "3.6.8"
  }
 },
 "nbformat": 4,
 "nbformat_minor": 2
}
